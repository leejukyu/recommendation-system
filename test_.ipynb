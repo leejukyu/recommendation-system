{
  "nbformat": 4,
  "nbformat_minor": 0,
  "metadata": {
    "colab": {
      "name": "test .ipynb",
      "provenance": [],
      "machine_shape": "hm",
      "include_colab_link": true
    },
    "kernelspec": {
      "name": "python3",
      "display_name": "Python 3"
    },
    "language_info": {
      "name": "python"
    },
    "accelerator": "GPU"
  },
  "cells": [
    {
      "cell_type": "markdown",
      "metadata": {
        "id": "view-in-github",
        "colab_type": "text"
      },
      "source": [
        "<a href=\"https://colab.research.google.com/github/leejukyu/recommendation_system/blob/main/test_.ipynb\" target=\"_parent\"><img src=\"https://colab.research.google.com/assets/colab-badge.svg\" alt=\"Open In Colab\"/></a>"
      ]
    },
    {
      "cell_type": "code",
      "metadata": {
        "id": "pwxa2RtALa8m"
      },
      "source": [
        "import requests\n",
        "from bs4 import BeautifulSoup\n",
        "import re"
      ],
      "execution_count": null,
      "outputs": []
    },
    {
      "cell_type": "markdown",
      "metadata": {
        "id": "rPq6XhOPeAPG"
      },
      "source": [
        "## 1. naver 영화 url 가져오기"
      ]
    },
    {
      "cell_type": "code",
      "metadata": {
        "colab": {
          "base_uri": "https://localhost:8080/"
        },
        "id": "HN4poyc1Lcbu",
        "outputId": "a65861a1-0f90-4046-9801-68878028e40e"
      },
      "source": [
        "res = requests.get(\"https://movie.naver.com/movie/point/af/list.nhn\")\n",
        "res"
      ],
      "execution_count": null,
      "outputs": [
        {
          "output_type": "execute_result",
          "data": {
            "text/plain": [
              "<Response [200]>"
            ]
          },
          "metadata": {
            "tags": []
          },
          "execution_count": 2
        }
      ]
    },
    {
      "cell_type": "code",
      "metadata": {
        "id": "bPQY7zKrMcIe"
      },
      "source": [
        "soup = BeautifulSoup(res.text, 'html5lib')\n",
        "movie_links = soup.select('a[href]')"
      ],
      "execution_count": null,
      "outputs": []
    },
    {
      "cell_type": "code",
      "metadata": {
        "colab": {
          "base_uri": "https://localhost:8080/"
        },
        "id": "QYLj7z8RNJ6y",
        "outputId": "34e401eb-ff2c-46d4-fa53-c8829e36e870"
      },
      "source": [
        "movie_links_list = []\n",
        "\n",
        "for link in movie_links:\n",
        "    if re.search(r'st=mcode&sword' and r'&target=after', link['href']):\n",
        "        target_url = r'https://movie.naver.com/movie/point/af/list.nhn'+str(link['href'])\n",
        "        movie_links_list.append(target_url)\n",
        "        print(target_url)\n"
      ],
      "execution_count": null,
      "outputs": [
        {
          "output_type": "stream",
          "text": [
            "https://movie.naver.com/movie/point/af/list.nhn?st=mcode&sword=204624&target=after\n",
            "https://movie.naver.com/movie/point/af/list.nhn?st=mcode&sword=172454&target=after\n",
            "https://movie.naver.com/movie/point/af/list.nhn?st=mcode&sword=165026&target=after\n",
            "https://movie.naver.com/movie/point/af/list.nhn?st=mcode&sword=123688&target=after\n",
            "https://movie.naver.com/movie/point/af/list.nhn?st=mcode&sword=163811&target=after\n",
            "https://movie.naver.com/movie/point/af/list.nhn?st=mcode&sword=188195&target=after\n",
            "https://movie.naver.com/movie/point/af/list.nhn?st=mcode&sword=23917&target=after\n",
            "https://movie.naver.com/movie/point/af/list.nhn?st=mcode&sword=107992&target=after\n",
            "https://movie.naver.com/movie/point/af/list.nhn?st=mcode&sword=185949&target=after\n",
            "https://movie.naver.com/movie/point/af/list.nhn?st=mcode&sword=205629&target=after\n"
          ],
          "name": "stdout"
        }
      ]
    },
    {
      "cell_type": "markdown",
      "metadata": {
        "id": "O4rDNFM2eRa9"
      },
      "source": [
        "## 2. 영화 url을 접속한 후 장르 가져오기"
      ]
    },
    {
      "cell_type": "code",
      "metadata": {
        "colab": {
          "base_uri": "https://localhost:8080/"
        },
        "id": "vTvPAMErRLeW",
        "outputId": "0fe69c3b-b92d-40a8-8af1-7fe00d81d12c"
      },
      "source": [
        "# res = requests.get('https://movie.naver.com/movie/point/af/list.nhn?st=mcode&sword=189050&target=after')\n",
        "# res.text\n",
        "# print(movie_links_list)\n",
        "\n",
        "genre_list = []\n",
        "\n",
        "for movie_url in movie_links_list:\n",
        "    res = requests.get(movie_url)\n",
        "    content = res.text\n",
        "    soup = BeautifulSoup(content, 'html5lib')\n",
        "    genre = soup.find_all('table', class_='info_area')\n",
        "\n",
        "    for genre in genre:\n",
        "        genre_list.append(genre.a.get_text())\n",
        "        # print(genre.a.get_text())\n",
        "\n",
        "print(genre_list)"
      ],
      "execution_count": null,
      "outputs": [
        {
          "output_type": "stream",
          "text": [
            "['액션', '공포', '스릴러', '코미디', '모험', '다큐멘터리', 'SF', '애니메이션', '미스터리', '공포']\n"
          ],
          "name": "stdout"
        }
      ]
    },
    {
      "cell_type": "markdown",
      "metadata": {
        "id": "_I1iLByVehcN"
      },
      "source": [
        "## 3. naver 영화에서 평가 등을 한 유저 정보 가져오기"
      ]
    },
    {
      "cell_type": "code",
      "metadata": {
        "colab": {
          "base_uri": "https://localhost:8080/"
        },
        "id": "Q8md0Gw9T4es",
        "outputId": "f54c8565-e7c2-4399-f9cd-beeb31fae0ed"
      },
      "source": [
        "res = requests.get(\"http://movie.naver.com/movie/point/af/list.nhn?st=mcode&sword=187322&target=after\")\n",
        "content = res.text\n",
        "\n",
        "soup = BeautifulSoup(content, 'html5lib')\n",
        "page_links = soup.select('a[href]')\n",
        "\n",
        "page_link_list = []\n",
        "\n",
        "for link in page_links:\n",
        "  if re.search(r'&target=after', link['href']):\n",
        "    target_url='http://movie.naver.com'+str(link['href'])\n",
        "    page_link_list.append(target_url)\n",
        "    \n",
        "print(page_link_list)\n"
      ],
      "execution_count": null,
      "outputs": [
        {
          "output_type": "stream",
          "text": [
            "['http://movie.naver.com/movie/point/af/list.nhn?st=mcode&sword=187322&target=after&page=1', 'http://movie.naver.com/movie/point/af/list.nhn?st=mcode&sword=187322&target=after&page=2', 'http://movie.naver.com/movie/point/af/list.nhn?st=mcode&sword=187322&target=after&page=3', 'http://movie.naver.com/movie/point/af/list.nhn?st=mcode&sword=187322&target=after&page=4', 'http://movie.naver.com/movie/point/af/list.nhn?st=mcode&sword=187322&target=after&page=5', 'http://movie.naver.com/movie/point/af/list.nhn?st=mcode&sword=187322&target=after&page=6', 'http://movie.naver.com/movie/point/af/list.nhn?st=mcode&sword=187322&target=after&page=7', 'http://movie.naver.com/movie/point/af/list.nhn?st=mcode&sword=187322&target=after&page=8', 'http://movie.naver.com/movie/point/af/list.nhn?st=mcode&sword=187322&target=after&page=9', 'http://movie.naver.com/movie/point/af/list.nhn?st=mcode&sword=187322&target=after&page=10', 'http://movie.naver.com/movie/point/af/list.nhn?st=mcode&sword=187322&target=after&page=2']\n"
          ],
          "name": "stdout"
        }
      ]
    },
    {
      "cell_type": "markdown",
      "metadata": {
        "id": "kHq8suzBmgF-"
      },
      "source": [
        "## 4. url 받아서 데이터 크롤링"
      ]
    },
    {
      "cell_type": "code",
      "metadata": {
        "id": "6VcezLo0nXit"
      },
      "source": [
        "def get_movie_link(url):\n",
        "    res = requests.get(\"https://movie.naver.com/movie/point/af/list.nhn\")\n",
        "    soup = BeautifulSoup(res.text, 'html5lib')\n",
        "\n",
        "    movie_links = soup.select('a[href]')\n",
        "\n",
        "    movie_links_list = []\n",
        "\n",
        "    for link in movie_links:\n",
        "        if re.search(r'st=mcode&sword' and r'&target=after', link['href']):\n",
        "            target_url = r'https://movie.naver.com/movie/point/af/list.nhn'+str(link['href'])\n",
        "            movie_links_list.append(target_url)\n",
        "\n",
        "    return movie_links_list\n",
        "\n",
        "def genre_list(url):\n",
        "    movie_links_list = get_movie_link(url)\n",
        "    genre_list = []\n",
        "\n",
        "    for movie_url in movie_links_list:\n",
        "        res = requests.get(movie_url)\n",
        "        content = res.text\n",
        "        soup = BeautifulSoup(content, 'html5lib')\n",
        "        genre = soup.find_all('table', class_='info_area')\n",
        "\n",
        "        for genre in genre:\n",
        "            genre_list.append(genre.a.get_text())\n",
        "    \n",
        "    return genre_list\n",
        "\n",
        "def get_user_list(url):\n",
        "    res = requests.get(url)\n",
        "    content = res.text\n",
        "\n",
        "    soup = BeautifulSoup(content, 'html5lib')\n",
        "    page_links = soup.select('a[href]')\n",
        "\n",
        "    page_link_list = []\n",
        "\n",
        "    for link in page_links:\n",
        "        if re.search(r'&target=after', link['href']):\n",
        "            target_url='http://movie.naver.com'+str(link['href'])\n",
        "            page_link_list.append(target_url)\n",
        "    if len(page_link_list) != 1:\n",
        "        pop_number = len(page_link_list) - 1\n",
        "        page_link_list.pop(pop_number)\n",
        "    \n",
        "    return page_link_list"
      ],
      "execution_count": null,
      "outputs": []
    },
    {
      "cell_type": "code",
      "metadata": {
        "colab": {
          "base_uri": "https://localhost:8080/"
        },
        "id": "RJS8wYJ6e8tV",
        "outputId": "8ec4d12a-0aa7-4156-93fe-fb924d270c86"
      },
      "source": [
        "url_list = get_user_list(\"https://movie.naver.com/movie/point/af/list.nhn\")\n",
        "\n",
        "if len(url_list) >= 2:\n",
        "    for url in url_list:\n",
        "        # url = str(url)\n",
        "        genre_list_ = genre_list(url)\n",
        "        print(genre_list_)"
      ],
      "execution_count": null,
      "outputs": [
        {
          "output_type": "stream",
          "text": [
            "['액션', '액션', '공포', '스릴러', '코미디', '모험', '다큐멘터리', 'SF', '애니메이션', '미스터리']\n",
            "['드라마', '액션', '액션', '공포', '스릴러', '코미디', '모험', '다큐멘터리', 'SF', '애니메이션']\n",
            "['드라마', '액션', '액션', '공포', '스릴러', '코미디', '모험', '다큐멘터리', 'SF', '애니메이션']\n",
            "['스릴러', '드라마', '액션', '액션', '공포', '스릴러', '코미디', '모험', '다큐멘터리', 'SF']\n",
            "['스릴러', '드라마', '액션', '액션', '공포', '스릴러', '코미디', '모험', '다큐멘터리', 'SF']\n",
            "['스릴러', '드라마', '액션', '액션', '공포', '스릴러', '코미디', '모험', '다큐멘터리', 'SF']\n",
            "['스릴러', '드라마', '액션', '액션', '공포', '스릴러', '코미디', '모험', '다큐멘터리', 'SF']\n",
            "['스릴러', '드라마', '액션', '액션', '공포', '스릴러', '코미디', '모험', '다큐멘터리', 'SF']\n",
            "['스릴러', '드라마', '액션', '액션', '공포', '스릴러', '코미디', '모험', '다큐멘터리', 'SF']\n"
          ],
          "name": "stdout"
        }
      ]
    },
    {
      "cell_type": "code",
      "metadata": {
        "id": "-xe1gY02MQvt"
      },
      "source": [
        ""
      ],
      "execution_count": null,
      "outputs": []
    }
  ]
}