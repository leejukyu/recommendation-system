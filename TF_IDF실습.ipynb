{
  "nbformat": 4,
  "nbformat_minor": 0,
  "metadata": {
    "colab": {
      "name": "TF-IDF실습.ipynb",
      "provenance": [],
      "collapsed_sections": [],
      "machine_shape": "hm",
      "mount_file_id": "1KXEAT7Yt0Hm4vp5M5Lcaa2932bSnBj4w",
      "authorship_tag": "ABX9TyN92yrUqusLLfQ9zKjlUrAb",
      "include_colab_link": true
    },
    "kernelspec": {
      "name": "python3",
      "display_name": "Python 3"
    },
    "language_info": {
      "name": "python"
    },
    "accelerator": "GPU"
  },
  "cells": [
    {
      "cell_type": "markdown",
      "metadata": {
        "id": "view-in-github",
        "colab_type": "text"
      },
      "source": [
        "<a href=\"https://colab.research.google.com/github/leejukyu/recommendation_system/blob/main/TF_IDF%EC%8B%A4%EC%8A%B5.ipynb\" target=\"_parent\"><img src=\"https://colab.research.google.com/assets/colab-badge.svg\" alt=\"Open In Colab\"/></a>"
      ]
    },
    {
      "cell_type": "markdown",
      "metadata": {
        "id": "bidypTVF_nA-"
      },
      "source": [
        "### ** TF-IDF 실습 **\n",
        "\n"
      ]
    },
    {
      "cell_type": "code",
      "metadata": {
        "colab": {
          "base_uri": "https://localhost:8080/"
        },
        "id": "a-bhXXENBGPd",
        "outputId": "e8470420-7585-4a56-f1a8-4aa1d319809d"
      },
      "source": [
        "%%time\n",
        "path = \"/content/drive/MyDrive/data\""
      ],
      "execution_count": null,
      "outputs": [
        {
          "output_type": "stream",
          "text": [
            "CPU times: user 3 µs, sys: 0 ns, total: 3 µs\n",
            "Wall time: 7.39 µs\n"
          ],
          "name": "stdout"
        }
      ]
    },
    {
      "cell_type": "code",
      "metadata": {
        "colab": {
          "base_uri": "https://localhost:8080/"
        },
        "id": "kMQrLpELDukW",
        "outputId": "ae9f814a-5c17-42e6-bb62-971b5f6e688c"
      },
      "source": [
        "!bash <(curl -s https://raw.githubusercontent.com/konlpy/konlpy/master/scripts/mecab.sh)"
      ],
      "execution_count": null,
      "outputs": [
        {
          "output_type": "stream",
          "text": [
            "mecab-ko is already installed\n",
            "mecab-ko-dic is already installed\n",
            "mecab-python is already installed\n",
            "Done.\n"
          ],
          "name": "stdout"
        }
      ]
    },
    {
      "cell_type": "code",
      "metadata": {
        "id": "QpA1sHXqDjY0"
      },
      "source": [
        "import kss\n",
        "import re"
      ],
      "execution_count": null,
      "outputs": []
    },
    {
      "cell_type": "code",
      "metadata": {
        "id": "QUtOrEjKBKn9"
      },
      "source": [
        "# 불용어 처리\n",
        "removal_list =  \"‘, ’, ◇, ‘, ”,  ’, ', ·, \\“, ·, △, ●,  , ■, (, ), \\\", >>, `, /, -,∼,=,ㆍ<,>, .,?, !,【,】, …, ◆,%\"\n",
        "def cleansing_special(sentence):\n",
        "    # 특수문자를 전처리를 하는 함수\n",
        "    sentence = re.sub(\"[.,\\'\\\"’‘”“!?]\", \"\", sentence)\n",
        "    sentence = re.sub(\"[^가-힣0-9a-zA-Z\\\\s]\", \" \", sentence)\n",
        "    sentence = re.sub(\"\\s+\", \" \", sentence)\n",
        "    sentence = sentence.translate(str.maketrans(removal_list, ' '*len(removal_list)))\n",
        "    sentence = sentence.strip()\n",
        "    return sentence\n",
        "def cleansing_numbers(sentence):\n",
        "    # 숫자를 전처리(delexicalization) 하는 함수    \n",
        "    sentence = re.sub('[0-9]+', 'NUM', sentence)\n",
        "    sentence = re.sub('NUM\\s+', \"NUM\", sentence)\n",
        "    sentence = re.sub('[NUM]+', \"NUM\", sentence)\n",
        "    return sentence"
      ],
      "execution_count": null,
      "outputs": []
    },
    {
      "cell_type": "code",
      "metadata": {
        "colab": {
          "base_uri": "https://localhost:8080/",
          "height": 461
        },
        "id": "nHkQP2IbBn-2",
        "outputId": "cc6f8d07-3ee9-415c-cf1d-04529132aee8"
      },
      "source": [
        "import os\n",
        "from konlpy.tag import Mecab\n",
        "mecab = Mecab()\n",
        "all_sentences = []\n",
        "with open(os.path.join(path, 'news_sample.txt'), 'r', encoding='utf-8') as f:\n",
        "    for idx, line in enumerate(f.readlines()):\n",
        "        print(f\"---문서 {idx}번---\")\n",
        "        preprocessed = cleansing_numbers(line)\n",
        "        preprocessed = cleansing_numbers(preprocessed)\n",
        "\n",
        "        # 명사만 추출(nouns)\n",
        "        preprocessed_news = ''.join(list(set(mecab.nouns(preprocessed))))\n",
        "\n",
        "        # 문장으로 분리\n",
        "        preprocessed_news = ''.join(kss.split_sentences(preprocessed))\n",
        "\n",
        "        print(preprocessed_news)\n",
        "        all_sentences.append(preprocessed_news)"
      ],
      "execution_count": null,
      "outputs": [
        {
          "output_type": "error",
          "ename": "Exception",
          "evalue": "ignored",
          "traceback": [
            "\u001b[0;31m---------------------------------------------------------------------------\u001b[0m",
            "\u001b[0;31mNameError\u001b[0m                                 Traceback (most recent call last)",
            "\u001b[0;32m/usr/local/lib/python3.7/dist-packages/konlpy/tag/_mecab.py\u001b[0m in \u001b[0;36m__init__\u001b[0;34m(self, dicpath)\u001b[0m\n\u001b[1;32m    107\u001b[0m         \u001b[0;32mtry\u001b[0m\u001b[0;34m:\u001b[0m\u001b[0;34m\u001b[0m\u001b[0;34m\u001b[0m\u001b[0m\n\u001b[0;32m--> 108\u001b[0;31m             \u001b[0mself\u001b[0m\u001b[0;34m.\u001b[0m\u001b[0mtagger\u001b[0m \u001b[0;34m=\u001b[0m \u001b[0mTagger\u001b[0m\u001b[0;34m(\u001b[0m\u001b[0;34m'-d %s'\u001b[0m \u001b[0;34m%\u001b[0m \u001b[0mdicpath\u001b[0m\u001b[0;34m)\u001b[0m\u001b[0;34m\u001b[0m\u001b[0;34m\u001b[0m\u001b[0m\n\u001b[0m\u001b[1;32m    109\u001b[0m             \u001b[0mself\u001b[0m\u001b[0;34m.\u001b[0m\u001b[0mtagset\u001b[0m \u001b[0;34m=\u001b[0m \u001b[0mutils\u001b[0m\u001b[0;34m.\u001b[0m\u001b[0mread_json\u001b[0m\u001b[0;34m(\u001b[0m\u001b[0;34m'%s/data/tagset/mecab.json'\u001b[0m \u001b[0;34m%\u001b[0m \u001b[0mutils\u001b[0m\u001b[0;34m.\u001b[0m\u001b[0minstallpath\u001b[0m\u001b[0;34m)\u001b[0m\u001b[0;34m\u001b[0m\u001b[0;34m\u001b[0m\u001b[0m\n",
            "\u001b[0;31mNameError\u001b[0m: name 'Tagger' is not defined",
            "\nDuring handling of the above exception, another exception occurred:\n",
            "\u001b[0;31mException\u001b[0m                                 Traceback (most recent call last)",
            "\u001b[0;32m<ipython-input-35-2fdbbaec81b4>\u001b[0m in \u001b[0;36m<module>\u001b[0;34m()\u001b[0m\n\u001b[1;32m      1\u001b[0m \u001b[0;32mimport\u001b[0m \u001b[0mos\u001b[0m\u001b[0;34m\u001b[0m\u001b[0;34m\u001b[0m\u001b[0m\n\u001b[1;32m      2\u001b[0m \u001b[0;32mfrom\u001b[0m \u001b[0mkonlpy\u001b[0m\u001b[0;34m.\u001b[0m\u001b[0mtag\u001b[0m \u001b[0;32mimport\u001b[0m \u001b[0mMecab\u001b[0m\u001b[0;34m\u001b[0m\u001b[0;34m\u001b[0m\u001b[0m\n\u001b[0;32m----> 3\u001b[0;31m \u001b[0mmecab\u001b[0m \u001b[0;34m=\u001b[0m \u001b[0mMecab\u001b[0m\u001b[0;34m(\u001b[0m\u001b[0;34m)\u001b[0m\u001b[0;34m\u001b[0m\u001b[0;34m\u001b[0m\u001b[0m\n\u001b[0m\u001b[1;32m      4\u001b[0m \u001b[0mall_sentences\u001b[0m \u001b[0;34m=\u001b[0m \u001b[0;34m[\u001b[0m\u001b[0;34m]\u001b[0m\u001b[0;34m\u001b[0m\u001b[0;34m\u001b[0m\u001b[0m\n\u001b[1;32m      5\u001b[0m \u001b[0;32mwith\u001b[0m \u001b[0mopen\u001b[0m\u001b[0;34m(\u001b[0m\u001b[0mos\u001b[0m\u001b[0;34m.\u001b[0m\u001b[0mpath\u001b[0m\u001b[0;34m.\u001b[0m\u001b[0mjoin\u001b[0m\u001b[0;34m(\u001b[0m\u001b[0mpath\u001b[0m\u001b[0;34m,\u001b[0m \u001b[0;34m'news_sample.txt'\u001b[0m\u001b[0;34m)\u001b[0m\u001b[0;34m,\u001b[0m \u001b[0;34m'r'\u001b[0m\u001b[0;34m,\u001b[0m \u001b[0mencoding\u001b[0m\u001b[0;34m=\u001b[0m\u001b[0;34m'utf-8'\u001b[0m\u001b[0;34m)\u001b[0m \u001b[0;32mas\u001b[0m \u001b[0mf\u001b[0m\u001b[0;34m:\u001b[0m\u001b[0;34m\u001b[0m\u001b[0;34m\u001b[0m\u001b[0m\n",
            "\u001b[0;32m/usr/local/lib/python3.7/dist-packages/konlpy/tag/_mecab.py\u001b[0m in \u001b[0;36m__init__\u001b[0;34m(self, dicpath)\u001b[0m\n\u001b[1;32m    111\u001b[0m             \u001b[0;32mraise\u001b[0m \u001b[0mException\u001b[0m\u001b[0;34m(\u001b[0m\u001b[0;34m'The MeCab dictionary does not exist at \"%s\". Is the dictionary correctly installed?\\nYou can also try entering the dictionary path when initializing the Mecab class: \"Mecab(\\'/some/dic/path\\')\"'\u001b[0m \u001b[0;34m%\u001b[0m \u001b[0mdicpath\u001b[0m\u001b[0;34m)\u001b[0m\u001b[0;34m\u001b[0m\u001b[0;34m\u001b[0m\u001b[0m\n\u001b[1;32m    112\u001b[0m         \u001b[0;32mexcept\u001b[0m \u001b[0mNameError\u001b[0m\u001b[0;34m:\u001b[0m\u001b[0;34m\u001b[0m\u001b[0;34m\u001b[0m\u001b[0m\n\u001b[0;32m--> 113\u001b[0;31m             \u001b[0;32mraise\u001b[0m \u001b[0mException\u001b[0m\u001b[0;34m(\u001b[0m\u001b[0;34m'Install MeCab in order to use it: http://konlpy.org/en/latest/install/'\u001b[0m\u001b[0;34m)\u001b[0m\u001b[0;34m\u001b[0m\u001b[0;34m\u001b[0m\u001b[0m\n\u001b[0m\u001b[1;32m    114\u001b[0m \u001b[0;34m\u001b[0m\u001b[0m\n\u001b[1;32m    115\u001b[0m     \u001b[0;32mdef\u001b[0m \u001b[0m__setstate__\u001b[0m\u001b[0;34m(\u001b[0m\u001b[0mself\u001b[0m\u001b[0;34m,\u001b[0m \u001b[0mstate\u001b[0m\u001b[0;34m)\u001b[0m\u001b[0;34m:\u001b[0m\u001b[0;34m\u001b[0m\u001b[0;34m\u001b[0m\u001b[0m\n",
            "\u001b[0;31mException\u001b[0m: Install MeCab in order to use it: http://konlpy.org/en/latest/install/"
          ]
        }
      ]
    },
    {
      "cell_type": "code",
      "metadata": {
        "id": "wUtkRs-sCLhQ"
      },
      "source": [
        "all_sentences"
      ],
      "execution_count": null,
      "outputs": []
    },
    {
      "cell_type": "code",
      "metadata": {
        "id": "WEEkYPWaGqAT"
      },
      "source": [
        "from sklearn.feature_extraction.text import TfidfVectorizer\n",
        "from collections import defaultdict\n",
        "\n",
        "word2id = defaultdict(lambda : 0)\n",
        "# print(word2id)\n",
        "\n",
        "tfidf_vectorizer = TfidfVectorizer() # 명사에 가중치\n",
        "tfidf_matrix = tfidf_vectorizer.fit_transform(all_sentences)\n",
        "for idx, feature in enumerate(tfidf_vectorizer.get_feature_names()):\n",
        "    # print(idx, feature)\n",
        "    word2id[feature] = idx\n",
        "print(tfidf_matrix)"
      ],
      "execution_count": null,
      "outputs": []
    },
    {
      "cell_type": "code",
      "metadata": {
        "id": "pUUHz8ZdHXHK"
      },
      "source": [
        "tfidf_vectorizer.vocabulary_"
      ],
      "execution_count": null,
      "outputs": []
    },
    {
      "cell_type": "code",
      "metadata": {
        "id": "VLbQwQZsJkuk"
      },
      "source": [
        "for idx, line in enumerate(all_sentences):\n",
        "    print(f'--문서 {idx}번---')\n",
        "    results = [(token , tfidf_matrix[idx, word2id[token]]) for token in line.split()]\n",
        "    # 아이템을 요소별로 정렬\n",
        "    print(results)\n",
        "    results.sort(key=lambda element : element[1], reverse=True)\n",
        "    print(results)\n",
        "    print('\\n')"
      ],
      "execution_count": null,
      "outputs": []
    },
    {
      "cell_type": "code",
      "metadata": {
        "id": "xdYJL9KxniCe"
      },
      "source": [
        ""
      ],
      "execution_count": null,
      "outputs": []
    },
    {
      "cell_type": "markdown",
      "metadata": {
        "id": "0kkp-qqfuvA-"
      },
      "source": [
        "### 영화추천\n",
        "##### movies_metacdata.csv를 화용고 TF-IDF 알고리즘 활용"
      ]
    },
    {
      "cell_type": "code",
      "metadata": {
        "colab": {
          "base_uri": "https://localhost:8080/"
        },
        "id": "IU_Bd-VCuw8T",
        "outputId": "d0f8e442-c524-4316-92e7-1cdbfed6fa53"
      },
      "source": [
        "%%time\n",
        "import pandas as pd\n",
        "movie_data = pd.read_csv('/content/drive/MyDrive/data/movies_metadata.csv', encoding='utf-8')\n",
        "print(movie_data)"
      ],
      "execution_count": null,
      "outputs": [
        {
          "output_type": "stream",
          "text": [
            "       adult  ... vote_count\n",
            "0      False  ...     5415.0\n",
            "1      False  ...     2413.0\n",
            "2      False  ...       92.0\n",
            "3      False  ...       34.0\n",
            "4      False  ...      173.0\n",
            "...      ...  ...        ...\n",
            "45461  False  ...        1.0\n",
            "45462  False  ...        3.0\n",
            "45463  False  ...        6.0\n",
            "45464  False  ...        0.0\n",
            "45465  False  ...        0.0\n",
            "\n",
            "[45466 rows x 24 columns]\n",
            "CPU times: user 524 ms, sys: 70.6 ms, total: 595 ms\n",
            "Wall time: 610 ms\n"
          ],
          "name": "stdout"
        },
        {
          "output_type": "stream",
          "text": [
            "<string>:2: DtypeWarning: Columns (10) have mixed types.Specify dtype option on import or set low_memory=False.\n"
          ],
          "name": "stderr"
        }
      ]
    },
    {
      "cell_type": "code",
      "metadata": {
        "colab": {
          "base_uri": "https://localhost:8080/"
        },
        "id": "-OZqtqJKvZZ8",
        "outputId": "6cd28c24-883b-42d7-a324-e4c21fa22c0e"
      },
      "source": [
        "# 결측치 제거\n",
        "overview_data = movie_data[movie_data['overview'].notnull()].reset_index(drop=True)\n",
        "overview_data.shape"
      ],
      "execution_count": null,
      "outputs": [
        {
          "output_type": "execute_result",
          "data": {
            "text/plain": [
              "(44512, 24)"
            ]
          },
          "metadata": {
            "tags": []
          },
          "execution_count": 38
        }
      ]
    },
    {
      "cell_type": "code",
      "metadata": {
        "colab": {
          "base_uri": "https://localhost:8080/",
          "height": 414
        },
        "id": "1wbK4oC4vw3r",
        "outputId": "15076f9a-ff32-4e5d-9ddc-95bf9870bb69"
      },
      "source": [
        "tfidf_vectorizer_overview = TfidfVectorizer(stop_words=\"english\", max_features=10000)\n",
        "overview_matrix = tfidf_vectorizer_overview.fit_transform(overview_data['overview'])\n",
        "# print(overview_matrix)\n",
        "pd.DataFrame(overview_matrix)"
      ],
      "execution_count": null,
      "outputs": [
        {
          "output_type": "execute_result",
          "data": {
            "text/html": [
              "<div>\n",
              "<style scoped>\n",
              "    .dataframe tbody tr th:only-of-type {\n",
              "        vertical-align: middle;\n",
              "    }\n",
              "\n",
              "    .dataframe tbody tr th {\n",
              "        vertical-align: top;\n",
              "    }\n",
              "\n",
              "    .dataframe thead th {\n",
              "        text-align: right;\n",
              "    }\n",
              "</style>\n",
              "<table border=\"1\" class=\"dataframe\">\n",
              "  <thead>\n",
              "    <tr style=\"text-align: right;\">\n",
              "      <th></th>\n",
              "      <th>0</th>\n",
              "    </tr>\n",
              "  </thead>\n",
              "  <tbody>\n",
              "    <tr>\n",
              "      <th>0</th>\n",
              "      <td>(0, 2620)\\t0.13777030554792585\\n  (0, 682)\\t...</td>\n",
              "    </tr>\n",
              "    <tr>\n",
              "      <th>1</th>\n",
              "      <td>(0, 2198)\\t0.1609551690390955\\n  (0, 8948)\\t...</td>\n",
              "    </tr>\n",
              "    <tr>\n",
              "      <th>2</th>\n",
              "      <td>(0, 9058)\\t0.09826424986547001\\n  (0, 4384)\\...</td>\n",
              "    </tr>\n",
              "    <tr>\n",
              "      <th>3</th>\n",
              "      <td>(0, 9728)\\t0.14029436903788411\\n  (0, 1028)\\...</td>\n",
              "    </tr>\n",
              "    <tr>\n",
              "      <th>4</th>\n",
              "      <td>(0, 5012)\\t0.1922902664705427\\n  (0, 657)\\t0...</td>\n",
              "    </tr>\n",
              "    <tr>\n",
              "      <th>...</th>\n",
              "      <td>...</td>\n",
              "    </tr>\n",
              "    <tr>\n",
              "      <th>44507</th>\n",
              "      <td>(0, 7613)\\t0.6777056094355318\\n  (0, 3388)\\t...</td>\n",
              "    </tr>\n",
              "    <tr>\n",
              "      <th>44508</th>\n",
              "      <td>(0, 8553)\\t0.4752455146929435\\n  (0, 671)\\t0...</td>\n",
              "    </tr>\n",
              "    <tr>\n",
              "      <th>44509</th>\n",
              "      <td>(0, 993)\\t0.37185786784776004\\n  (0, 4297)\\t...</td>\n",
              "    </tr>\n",
              "    <tr>\n",
              "      <th>44510</th>\n",
              "      <td>(0, 8551)\\t0.1407509003946999\\n  (0, 5058)\\t...</td>\n",
              "    </tr>\n",
              "    <tr>\n",
              "      <th>44511</th>\n",
              "      <td>(0, 5802)\\t0.2980470064486487\\n  (0, 2304)\\t...</td>\n",
              "    </tr>\n",
              "  </tbody>\n",
              "</table>\n",
              "<p>44512 rows × 1 columns</p>\n",
              "</div>"
            ],
            "text/plain": [
              "                                                       0\n",
              "0        (0, 2620)\\t0.13777030554792585\\n  (0, 682)\\t...\n",
              "1        (0, 2198)\\t0.1609551690390955\\n  (0, 8948)\\t...\n",
              "2        (0, 9058)\\t0.09826424986547001\\n  (0, 4384)\\...\n",
              "3        (0, 9728)\\t0.14029436903788411\\n  (0, 1028)\\...\n",
              "4        (0, 5012)\\t0.1922902664705427\\n  (0, 657)\\t0...\n",
              "...                                                  ...\n",
              "44507    (0, 7613)\\t0.6777056094355318\\n  (0, 3388)\\t...\n",
              "44508    (0, 8553)\\t0.4752455146929435\\n  (0, 671)\\t0...\n",
              "44509    (0, 993)\\t0.37185786784776004\\n  (0, 4297)\\t...\n",
              "44510    (0, 8551)\\t0.1407509003946999\\n  (0, 5058)\\t...\n",
              "44511    (0, 5802)\\t0.2980470064486487\\n  (0, 2304)\\t...\n",
              "\n",
              "[44512 rows x 1 columns]"
            ]
          },
          "metadata": {
            "tags": []
          },
          "execution_count": 39
        }
      ]
    },
    {
      "cell_type": "code",
      "metadata": {
        "colab": {
          "base_uri": "https://localhost:8080/"
        },
        "id": "N7T35WYxxp_R",
        "outputId": "ba8083be-6338-4ebe-8012-6acc354484ba"
      },
      "source": [
        "from sklearn.metrics.pairwise import cosine_similarity\n",
        "cosine_matrix = cosine_similarity(overview_matrix)\n",
        "cosine_matrix"
      ],
      "execution_count": null,
      "outputs": [
        {
          "output_type": "execute_result",
          "data": {
            "text/plain": [
              "array([[1.        , 0.01622149, 0.        , ..., 0.        , 0.00691458,\n",
              "        0.        ],\n",
              "       [0.01622149, 1.        , 0.05406299, ..., 0.        , 0.02645526,\n",
              "        0.0123022 ],\n",
              "       [0.        , 0.05406299, 1.        , ..., 0.        , 0.01746952,\n",
              "        0.        ],\n",
              "       ...,\n",
              "       [0.        , 0.        , 0.        , ..., 1.        , 0.        ,\n",
              "        0.        ],\n",
              "       [0.00691458, 0.02645526, 0.01746952, ..., 0.        , 1.        ,\n",
              "        0.        ],\n",
              "       [0.        , 0.0123022 , 0.        , ..., 0.        , 0.        ,\n",
              "        1.        ]])"
            ]
          },
          "metadata": {
            "tags": []
          },
          "execution_count": 40
        }
      ]
    },
    {
      "cell_type": "code",
      "metadata": {
        "id": "NeRi2qkMyZIA"
      },
      "source": [
        "movie2id = {}\n",
        "for idx, content in enumerate(overview_data['title']):\n",
        "    movie2id[idx] = content\n",
        "\n",
        "id2movie = {}\n",
        "for idx, content in enumerate(overview_data['title']):\n",
        "    id2movie[content] = idx"
      ],
      "execution_count": null,
      "outputs": []
    },
    {
      "cell_type": "code",
      "metadata": {
        "colab": {
          "base_uri": "https://localhost:8080/"
        },
        "id": "iEPXXgGx0GfS",
        "outputId": "c60b1c14-c9e3-4cb6-b983-91c267d20a60"
      },
      "source": [
        "overview_data['title'].unique()"
      ],
      "execution_count": null,
      "outputs": [
        {
          "output_type": "execute_result",
          "data": {
            "text/plain": [
              "array(['Toy Story', 'Jumanji', 'Grumpier Old Men', ...,\n",
              "       'Century of Birthing', 'Satan Triumphant', 'Queerama'],\n",
              "      dtype=object)"
            ]
          },
          "metadata": {
            "tags": []
          },
          "execution_count": 42
        }
      ]
    },
    {
      "cell_type": "code",
      "metadata": {
        "colab": {
          "base_uri": "https://localhost:8080/"
        },
        "id": "23uS-EMW0lQC",
        "outputId": "a6434a52-4082-41be-aa5b-31222ebf9b4d"
      },
      "source": [
        "import numpy as np\n",
        "idx = id2movie['Toy Story']\n",
        "np.sort(cosine_matrix[1])[::-1]\n",
        "\n",
        "similiar_scores = [(i, c) for i, c in enumerate(cosine_matrix[idx]) if i != idx]\n",
        "similiar_scores = sorted(similiar_scores, key = lambda x: x[1], reverse = True)\n",
        "similiar_scores[0:10]"
      ],
      "execution_count": null,
      "outputs": [
        {
          "output_type": "execute_result",
          "data": {
            "text/plain": [
              "[(15282, 0.543890726837358),\n",
              " (2979, 0.4598067529219477),\n",
              " (24316, 0.33002662508690145),\n",
              " (10271, 0.3249936921360821),\n",
              " (8303, 0.29889485118380993),\n",
              " (23646, 0.27206245876641316),\n",
              " (28893, 0.261773403202809),\n",
              " (42572, 0.2527459923476682),\n",
              " (41893, 0.2393563197889988),\n",
              " (37778, 0.22069124670177778)]"
            ]
          },
          "metadata": {
            "tags": []
          },
          "execution_count": 43
        }
      ]
    },
    {
      "cell_type": "code",
      "metadata": {
        "colab": {
          "base_uri": "https://localhost:8080/"
        },
        "id": "Rr6Ld1OJ0p-o",
        "outputId": "2e18d820-38e6-40b4-aa25-236b4689c47f"
      },
      "source": [
        "sim_title = [(movie2id[i], score) for i, score in similiar_scores[0:5]]\n",
        "sim_title\n",
        "\n",
        "idx_convert = {0:'첫번째', 1:'두번째', 2:'세번째', 3:'네번째', 4:'다섯번째'}\n",
        "for i, data in enumerate(sim_title):\n",
        "    print(f'{idx_convert[i]} 영화추천은 {data[0]}입니다. 유사도는 {data[1]}')"
      ],
      "execution_count": null,
      "outputs": [
        {
          "output_type": "stream",
          "text": [
            "첫번째 영화추천은 Toy Story 3입니다. 유사도는 0.543890726837358\n",
            "두번째 영화추천은 Toy Story 2입니다. 유사도는 0.4598067529219477\n",
            "세번째 영화추천은 Small Fry입니다. 유사도는 0.33002662508690145\n",
            "네번째 영화추천은 The 40 Year Old Virgin입니다. 유사도는 0.3249936921360821\n",
            "다섯번째 영화추천은 The Champ입니다. 유사도는 0.29889485118380993\n"
          ],
          "name": "stdout"
        }
      ]
    },
    {
      "cell_type": "markdown",
      "metadata": {
        "id": "x2Jv1GeO_NTC"
      },
      "source": [
        "### Word2Vec을 이용한 추천시스템(영화추천)"
      ]
    },
    {
      "cell_type": "code",
      "metadata": {
        "id": "lUEkDeFw5sU4"
      },
      "source": [
        "import pandas as pd\n",
        "import numpy as np\n",
        "from sklearn.feature_extraction.text import TfidfVectorizer\n",
        "import gensim\n",
        "import os"
      ],
      "execution_count": null,
      "outputs": []
    },
    {
      "cell_type": "code",
      "metadata": {
        "id": "RHWUT6c0_SMQ"
      },
      "source": [
        "import warnings\n",
        "warnings.filterwarnings(action='ignore')"
      ],
      "execution_count": null,
      "outputs": []
    },
    {
      "cell_type": "code",
      "metadata": {
        "id": "uEQycZSIAgFu"
      },
      "source": [
        "path = '/content/drive/MyDrive/data/movielens'"
      ],
      "execution_count": null,
      "outputs": []
    },
    {
      "cell_type": "code",
      "metadata": {
        "colab": {
          "base_uri": "https://localhost:8080/",
          "height": 202
        },
        "id": "T1B0phu1AnOs",
        "outputId": "e4cc36be-01b6-4e62-ed6b-a49a6584769f"
      },
      "source": [
        "movie = pd.read_csv(os.path.join(path, 'ratings.csv'), low_memory=False)\n",
        "movie = movie.sort_values(by='timestamp').reset_index(drop=True)\n",
        "movie.head()"
      ],
      "execution_count": null,
      "outputs": [
        {
          "output_type": "execute_result",
          "data": {
            "text/html": [
              "<div>\n",
              "<style scoped>\n",
              "    .dataframe tbody tr th:only-of-type {\n",
              "        vertical-align: middle;\n",
              "    }\n",
              "\n",
              "    .dataframe tbody tr th {\n",
              "        vertical-align: top;\n",
              "    }\n",
              "\n",
              "    .dataframe thead th {\n",
              "        text-align: right;\n",
              "    }\n",
              "</style>\n",
              "<table border=\"1\" class=\"dataframe\">\n",
              "  <thead>\n",
              "    <tr style=\"text-align: right;\">\n",
              "      <th></th>\n",
              "      <th>userId</th>\n",
              "      <th>movieId</th>\n",
              "      <th>rating</th>\n",
              "      <th>timestamp</th>\n",
              "    </tr>\n",
              "  </thead>\n",
              "  <tbody>\n",
              "    <tr>\n",
              "      <th>0</th>\n",
              "      <td>429</td>\n",
              "      <td>595</td>\n",
              "      <td>5.0</td>\n",
              "      <td>828124615</td>\n",
              "    </tr>\n",
              "    <tr>\n",
              "      <th>1</th>\n",
              "      <td>429</td>\n",
              "      <td>588</td>\n",
              "      <td>5.0</td>\n",
              "      <td>828124615</td>\n",
              "    </tr>\n",
              "    <tr>\n",
              "      <th>2</th>\n",
              "      <td>429</td>\n",
              "      <td>590</td>\n",
              "      <td>5.0</td>\n",
              "      <td>828124615</td>\n",
              "    </tr>\n",
              "    <tr>\n",
              "      <th>3</th>\n",
              "      <td>429</td>\n",
              "      <td>592</td>\n",
              "      <td>5.0</td>\n",
              "      <td>828124615</td>\n",
              "    </tr>\n",
              "    <tr>\n",
              "      <th>4</th>\n",
              "      <td>429</td>\n",
              "      <td>432</td>\n",
              "      <td>3.0</td>\n",
              "      <td>828124615</td>\n",
              "    </tr>\n",
              "  </tbody>\n",
              "</table>\n",
              "</div>"
            ],
            "text/plain": [
              "   userId  movieId  rating  timestamp\n",
              "0     429      595     5.0  828124615\n",
              "1     429      588     5.0  828124615\n",
              "2     429      590     5.0  828124615\n",
              "3     429      592     5.0  828124615\n",
              "4     429      432     3.0  828124615"
            ]
          },
          "metadata": {
            "tags": []
          },
          "execution_count": 66
        }
      ]
    },
    {
      "cell_type": "code",
      "metadata": {
        "colab": {
          "base_uri": "https://localhost:8080/",
          "height": 296
        },
        "id": "aiSiKSdsB9RN",
        "outputId": "b502d227-f3dc-4d11-94f2-0c7bd6eadbec"
      },
      "source": [
        "meta = pd.read_csv(os.path.join(path, 'movies_metadata.csv'), low_memory=False)\n",
        "meta.columns\n",
        "meta = meta.rename(columns={'id':'movieId'})\n",
        "meta.head(2)"
      ],
      "execution_count": null,
      "outputs": [
        {
          "output_type": "execute_result",
          "data": {
            "text/html": [
              "<div>\n",
              "<style scoped>\n",
              "    .dataframe tbody tr th:only-of-type {\n",
              "        vertical-align: middle;\n",
              "    }\n",
              "\n",
              "    .dataframe tbody tr th {\n",
              "        vertical-align: top;\n",
              "    }\n",
              "\n",
              "    .dataframe thead th {\n",
              "        text-align: right;\n",
              "    }\n",
              "</style>\n",
              "<table border=\"1\" class=\"dataframe\">\n",
              "  <thead>\n",
              "    <tr style=\"text-align: right;\">\n",
              "      <th></th>\n",
              "      <th>adult</th>\n",
              "      <th>belongs_to_collection</th>\n",
              "      <th>budget</th>\n",
              "      <th>genres</th>\n",
              "      <th>homepage</th>\n",
              "      <th>movieId</th>\n",
              "      <th>imdb_id</th>\n",
              "      <th>original_language</th>\n",
              "      <th>original_title</th>\n",
              "      <th>overview</th>\n",
              "      <th>popularity</th>\n",
              "      <th>poster_path</th>\n",
              "      <th>production_companies</th>\n",
              "      <th>production_countries</th>\n",
              "      <th>release_date</th>\n",
              "      <th>revenue</th>\n",
              "      <th>runtime</th>\n",
              "      <th>spoken_languages</th>\n",
              "      <th>status</th>\n",
              "      <th>tagline</th>\n",
              "      <th>title</th>\n",
              "      <th>video</th>\n",
              "      <th>vote_average</th>\n",
              "      <th>vote_count</th>\n",
              "    </tr>\n",
              "  </thead>\n",
              "  <tbody>\n",
              "    <tr>\n",
              "      <th>0</th>\n",
              "      <td>False</td>\n",
              "      <td>{'id': 10194, 'name': 'Toy Story Collection', ...</td>\n",
              "      <td>30000000</td>\n",
              "      <td>[{'id': 16, 'name': 'Animation'}, {'id': 35, '...</td>\n",
              "      <td>http://toystory.disney.com/toy-story</td>\n",
              "      <td>862</td>\n",
              "      <td>tt0114709</td>\n",
              "      <td>en</td>\n",
              "      <td>Toy Story</td>\n",
              "      <td>Led by Woody, Andy's toys live happily in his ...</td>\n",
              "      <td>21.946943</td>\n",
              "      <td>/rhIRbceoE9lR4veEXuwCC2wARtG.jpg</td>\n",
              "      <td>[{'name': 'Pixar Animation Studios', 'id': 3}]</td>\n",
              "      <td>[{'iso_3166_1': 'US', 'name': 'United States o...</td>\n",
              "      <td>1995-10-30</td>\n",
              "      <td>373554033.0</td>\n",
              "      <td>81.0</td>\n",
              "      <td>[{'iso_639_1': 'en', 'name': 'English'}]</td>\n",
              "      <td>Released</td>\n",
              "      <td>NaN</td>\n",
              "      <td>Toy Story</td>\n",
              "      <td>False</td>\n",
              "      <td>7.7</td>\n",
              "      <td>5415.0</td>\n",
              "    </tr>\n",
              "    <tr>\n",
              "      <th>1</th>\n",
              "      <td>False</td>\n",
              "      <td>NaN</td>\n",
              "      <td>65000000</td>\n",
              "      <td>[{'id': 12, 'name': 'Adventure'}, {'id': 14, '...</td>\n",
              "      <td>NaN</td>\n",
              "      <td>8844</td>\n",
              "      <td>tt0113497</td>\n",
              "      <td>en</td>\n",
              "      <td>Jumanji</td>\n",
              "      <td>When siblings Judy and Peter discover an encha...</td>\n",
              "      <td>17.015539</td>\n",
              "      <td>/vzmL6fP7aPKNKPRTFnZmiUfciyV.jpg</td>\n",
              "      <td>[{'name': 'TriStar Pictures', 'id': 559}, {'na...</td>\n",
              "      <td>[{'iso_3166_1': 'US', 'name': 'United States o...</td>\n",
              "      <td>1995-12-15</td>\n",
              "      <td>262797249.0</td>\n",
              "      <td>104.0</td>\n",
              "      <td>[{'iso_639_1': 'en', 'name': 'English'}, {'iso...</td>\n",
              "      <td>Released</td>\n",
              "      <td>Roll the dice and unleash the excitement!</td>\n",
              "      <td>Jumanji</td>\n",
              "      <td>False</td>\n",
              "      <td>6.9</td>\n",
              "      <td>2413.0</td>\n",
              "    </tr>\n",
              "  </tbody>\n",
              "</table>\n",
              "</div>"
            ],
            "text/plain": [
              "   adult  ... vote_count\n",
              "0  False  ...     5415.0\n",
              "1  False  ...     2413.0\n",
              "\n",
              "[2 rows x 24 columns]"
            ]
          },
          "metadata": {
            "tags": []
          },
          "execution_count": 82
        }
      ]
    },
    {
      "cell_type": "code",
      "metadata": {
        "id": "w8cMKVlUCXL9"
      },
      "source": [
        "movie['movieId'] = movie['movieId'].astype(str)\n",
        "meta['movieId'] = meta['movieId'].astype(str)"
      ],
      "execution_count": null,
      "outputs": []
    },
    {
      "cell_type": "code",
      "metadata": {
        "colab": {
          "base_uri": "https://localhost:8080/",
          "height": 202
        },
        "id": "6oIdMf-QC2Wj",
        "outputId": "6ec9009f-d0d9-4b39-ecfd-090429357961"
      },
      "source": [
        "movie = pd.merge(movie, meta[['movieId', 'original_title']], how='left', on='movieId')\n",
        "movie.head()"
      ],
      "execution_count": null,
      "outputs": [
        {
          "output_type": "execute_result",
          "data": {
            "text/html": [
              "<div>\n",
              "<style scoped>\n",
              "    .dataframe tbody tr th:only-of-type {\n",
              "        vertical-align: middle;\n",
              "    }\n",
              "\n",
              "    .dataframe tbody tr th {\n",
              "        vertical-align: top;\n",
              "    }\n",
              "\n",
              "    .dataframe thead th {\n",
              "        text-align: right;\n",
              "    }\n",
              "</style>\n",
              "<table border=\"1\" class=\"dataframe\">\n",
              "  <thead>\n",
              "    <tr style=\"text-align: right;\">\n",
              "      <th></th>\n",
              "      <th>userId</th>\n",
              "      <th>movieId</th>\n",
              "      <th>rating</th>\n",
              "      <th>timestamp</th>\n",
              "      <th>original_title</th>\n",
              "    </tr>\n",
              "  </thead>\n",
              "  <tbody>\n",
              "    <tr>\n",
              "      <th>0</th>\n",
              "      <td>429</td>\n",
              "      <td>595</td>\n",
              "      <td>5.0</td>\n",
              "      <td>828124615</td>\n",
              "      <td>To Kill a Mockingbird</td>\n",
              "    </tr>\n",
              "    <tr>\n",
              "      <th>1</th>\n",
              "      <td>429</td>\n",
              "      <td>588</td>\n",
              "      <td>5.0</td>\n",
              "      <td>828124615</td>\n",
              "      <td>Silent Hill</td>\n",
              "    </tr>\n",
              "    <tr>\n",
              "      <th>2</th>\n",
              "      <td>429</td>\n",
              "      <td>590</td>\n",
              "      <td>5.0</td>\n",
              "      <td>828124615</td>\n",
              "      <td>The Hours</td>\n",
              "    </tr>\n",
              "    <tr>\n",
              "      <th>3</th>\n",
              "      <td>429</td>\n",
              "      <td>592</td>\n",
              "      <td>5.0</td>\n",
              "      <td>828124615</td>\n",
              "      <td>The Conversation</td>\n",
              "    </tr>\n",
              "    <tr>\n",
              "      <th>4</th>\n",
              "      <td>429</td>\n",
              "      <td>432</td>\n",
              "      <td>3.0</td>\n",
              "      <td>828124615</td>\n",
              "      <td>NaN</td>\n",
              "    </tr>\n",
              "  </tbody>\n",
              "</table>\n",
              "</div>"
            ],
            "text/plain": [
              "   userId movieId  rating  timestamp         original_title\n",
              "0     429     595     5.0  828124615  To Kill a Mockingbird\n",
              "1     429     588     5.0  828124615            Silent Hill\n",
              "2     429     590     5.0  828124615              The Hours\n",
              "3     429     592     5.0  828124615       The Conversation\n",
              "4     429     432     3.0  828124615                    NaN"
            ]
          },
          "metadata": {
            "tags": []
          },
          "execution_count": 84
        }
      ]
    },
    {
      "cell_type": "code",
      "metadata": {
        "colab": {
          "base_uri": "https://localhost:8080/",
          "height": 414
        },
        "id": "rB-huTskDZB2",
        "outputId": "355be876-ec68-46be-a2aa-052c5017c4d5"
      },
      "source": [
        "movie = movie[movie['original_title'].notnull()].reset_index(drop=True)\n",
        "movie"
      ],
      "execution_count": null,
      "outputs": [
        {
          "output_type": "execute_result",
          "data": {
            "text/html": [
              "<div>\n",
              "<style scoped>\n",
              "    .dataframe tbody tr th:only-of-type {\n",
              "        vertical-align: middle;\n",
              "    }\n",
              "\n",
              "    .dataframe tbody tr th {\n",
              "        vertical-align: top;\n",
              "    }\n",
              "\n",
              "    .dataframe thead th {\n",
              "        text-align: right;\n",
              "    }\n",
              "</style>\n",
              "<table border=\"1\" class=\"dataframe\">\n",
              "  <thead>\n",
              "    <tr style=\"text-align: right;\">\n",
              "      <th></th>\n",
              "      <th>userId</th>\n",
              "      <th>movieId</th>\n",
              "      <th>rating</th>\n",
              "      <th>timestamp</th>\n",
              "      <th>original_title</th>\n",
              "    </tr>\n",
              "  </thead>\n",
              "  <tbody>\n",
              "    <tr>\n",
              "      <th>0</th>\n",
              "      <td>429</td>\n",
              "      <td>595</td>\n",
              "      <td>5.0</td>\n",
              "      <td>828124615</td>\n",
              "      <td>To Kill a Mockingbird</td>\n",
              "    </tr>\n",
              "    <tr>\n",
              "      <th>1</th>\n",
              "      <td>429</td>\n",
              "      <td>588</td>\n",
              "      <td>5.0</td>\n",
              "      <td>828124615</td>\n",
              "      <td>Silent Hill</td>\n",
              "    </tr>\n",
              "    <tr>\n",
              "      <th>2</th>\n",
              "      <td>429</td>\n",
              "      <td>590</td>\n",
              "      <td>5.0</td>\n",
              "      <td>828124615</td>\n",
              "      <td>The Hours</td>\n",
              "    </tr>\n",
              "    <tr>\n",
              "      <th>3</th>\n",
              "      <td>429</td>\n",
              "      <td>592</td>\n",
              "      <td>5.0</td>\n",
              "      <td>828124615</td>\n",
              "      <td>The Conversation</td>\n",
              "    </tr>\n",
              "    <tr>\n",
              "      <th>4</th>\n",
              "      <td>429</td>\n",
              "      <td>421</td>\n",
              "      <td>4.0</td>\n",
              "      <td>828124615</td>\n",
              "      <td>The Life Aquatic with Steve Zissou</td>\n",
              "    </tr>\n",
              "    <tr>\n",
              "      <th>...</th>\n",
              "      <td>...</td>\n",
              "      <td>...</td>\n",
              "      <td>...</td>\n",
              "      <td>...</td>\n",
              "      <td>...</td>\n",
              "    </tr>\n",
              "    <tr>\n",
              "      <th>42175</th>\n",
              "      <td>331</td>\n",
              "      <td>1676</td>\n",
              "      <td>4.0</td>\n",
              "      <td>1537235373</td>\n",
              "      <td>Will Penny</td>\n",
              "    </tr>\n",
              "    <tr>\n",
              "      <th>42176</th>\n",
              "      <td>272</td>\n",
              "      <td>158238</td>\n",
              "      <td>4.0</td>\n",
              "      <td>1537475893</td>\n",
              "      <td>Stolen Seas</td>\n",
              "    </tr>\n",
              "    <tr>\n",
              "      <th>42177</th>\n",
              "      <td>210</td>\n",
              "      <td>122906</td>\n",
              "      <td>4.5</td>\n",
              "      <td>1537632293</td>\n",
              "      <td>About Time</td>\n",
              "    </tr>\n",
              "    <tr>\n",
              "      <th>42178</th>\n",
              "      <td>514</td>\n",
              "      <td>5247</td>\n",
              "      <td>2.5</td>\n",
              "      <td>1537757040</td>\n",
              "      <td>Mercy</td>\n",
              "    </tr>\n",
              "    <tr>\n",
              "      <th>42179</th>\n",
              "      <td>514</td>\n",
              "      <td>162</td>\n",
              "      <td>4.0</td>\n",
              "      <td>1537799250</td>\n",
              "      <td>Edward Scissorhands</td>\n",
              "    </tr>\n",
              "  </tbody>\n",
              "</table>\n",
              "<p>42180 rows × 5 columns</p>\n",
              "</div>"
            ],
            "text/plain": [
              "       userId movieId  rating   timestamp                      original_title\n",
              "0         429     595     5.0   828124615               To Kill a Mockingbird\n",
              "1         429     588     5.0   828124615                         Silent Hill\n",
              "2         429     590     5.0   828124615                           The Hours\n",
              "3         429     592     5.0   828124615                    The Conversation\n",
              "4         429     421     4.0   828124615  The Life Aquatic with Steve Zissou\n",
              "...       ...     ...     ...         ...                                 ...\n",
              "42175     331    1676     4.0  1537235373                          Will Penny\n",
              "42176     272  158238     4.0  1537475893                         Stolen Seas\n",
              "42177     210  122906     4.5  1537632293                          About Time\n",
              "42178     514    5247     2.5  1537757040                               Mercy\n",
              "42179     514     162     4.0  1537799250                 Edward Scissorhands\n",
              "\n",
              "[42180 rows x 5 columns]"
            ]
          },
          "metadata": {
            "tags": []
          },
          "execution_count": 85
        }
      ]
    },
    {
      "cell_type": "code",
      "metadata": {
        "colab": {
          "base_uri": "https://localhost:8080/",
          "height": 445
        },
        "id": "3HrZNDU0Doxc",
        "outputId": "288bd2b5-f656-4ccf-b6e1-a07cd2dac6ed"
      },
      "source": [
        "agg = movie.groupby(['userId'])['original_title'].agg(['unique']) # 다중으로 함수를 쓰고 싶을때 agg\n",
        "agg"
      ],
      "execution_count": null,
      "outputs": [
        {
          "output_type": "execute_result",
          "data": {
            "text/html": [
              "<div>\n",
              "<style scoped>\n",
              "    .dataframe tbody tr th:only-of-type {\n",
              "        vertical-align: middle;\n",
              "    }\n",
              "\n",
              "    .dataframe tbody tr th {\n",
              "        vertical-align: top;\n",
              "    }\n",
              "\n",
              "    .dataframe thead th {\n",
              "        text-align: right;\n",
              "    }\n",
              "</style>\n",
              "<table border=\"1\" class=\"dataframe\">\n",
              "  <thead>\n",
              "    <tr style=\"text-align: right;\">\n",
              "      <th></th>\n",
              "      <th>unique</th>\n",
              "    </tr>\n",
              "    <tr>\n",
              "      <th>userId</th>\n",
              "      <th></th>\n",
              "    </tr>\n",
              "  </thead>\n",
              "  <tbody>\n",
              "    <tr>\n",
              "      <th>1</th>\n",
              "      <td>[Roman Holiday, The Wedding Planner, Der Tunne...</td>\n",
              "    </tr>\n",
              "    <tr>\n",
              "      <th>2</th>\n",
              "      <td>[The Million Dollar Hotel, Der Tunnel, Mere Br...</td>\n",
              "    </tr>\n",
              "    <tr>\n",
              "      <th>3</th>\n",
              "      <td>[American Pie, Rocky III, The Great Dictator, ...</td>\n",
              "    </tr>\n",
              "    <tr>\n",
              "      <th>4</th>\n",
              "      <td>[La Boum 2, La Cité des Enfants Perdus, Licens...</td>\n",
              "    </tr>\n",
              "    <tr>\n",
              "      <th>5</th>\n",
              "      <td>[The Hours, The Conversation, 48 Hrs., Rain Ma...</td>\n",
              "    </tr>\n",
              "    <tr>\n",
              "      <th>...</th>\n",
              "      <td>...</td>\n",
              "    </tr>\n",
              "    <tr>\n",
              "      <th>606</th>\n",
              "      <td>[The Great Dictator, Cold Mountain, Or, The Mo...</td>\n",
              "    </tr>\n",
              "    <tr>\n",
              "      <th>607</th>\n",
              "      <td>[Cars, Short Cuts, Young Frankenstein, Jarhead...</td>\n",
              "    </tr>\n",
              "    <tr>\n",
              "      <th>608</th>\n",
              "      <td>[Titanic, Speed 2: Cruise Control, Star Trek I...</td>\n",
              "    </tr>\n",
              "    <tr>\n",
              "      <th>609</th>\n",
              "      <td>[48 Hrs., The Conversation, The Hours, Termina...</td>\n",
              "    </tr>\n",
              "    <tr>\n",
              "      <th>610</th>\n",
              "      <td>[The Million Dollar Hotel, License to Wed, Die...</td>\n",
              "    </tr>\n",
              "  </tbody>\n",
              "</table>\n",
              "<p>610 rows × 1 columns</p>\n",
              "</div>"
            ],
            "text/plain": [
              "                                                   unique\n",
              "userId                                                   \n",
              "1       [Roman Holiday, The Wedding Planner, Der Tunne...\n",
              "2       [The Million Dollar Hotel, Der Tunnel, Mere Br...\n",
              "3       [American Pie, Rocky III, The Great Dictator, ...\n",
              "4       [La Boum 2, La Cité des Enfants Perdus, Licens...\n",
              "5       [The Hours, The Conversation, 48 Hrs., Rain Ma...\n",
              "...                                                   ...\n",
              "606     [The Great Dictator, Cold Mountain, Or, The Mo...\n",
              "607     [Cars, Short Cuts, Young Frankenstein, Jarhead...\n",
              "608     [Titanic, Speed 2: Cruise Control, Star Trek I...\n",
              "609     [48 Hrs., The Conversation, The Hours, Termina...\n",
              "610     [The Million Dollar Hotel, License to Wed, Die...\n",
              "\n",
              "[610 rows x 1 columns]"
            ]
          },
          "metadata": {
            "tags": []
          },
          "execution_count": 89
        }
      ]
    },
    {
      "cell_type": "markdown",
      "metadata": {
        "id": "2a6_3sEiFaj5"
      },
      "source": [
        "#### word2vec 적용"
      ]
    },
    {
      "cell_type": "code",
      "metadata": {
        "id": "cil4tZCuELVg"
      },
      "source": [
        "sentence = []\n",
        "\n",
        "for user_sentence in agg['unique'].values:\n",
        "    # print(user_sentence)\n",
        "    sentence.append(list(map(str, user_sentence)))"
      ],
      "execution_count": null,
      "outputs": []
    },
    {
      "cell_type": "code",
      "metadata": {
        "id": "yfc-ZAHTFc9G"
      },
      "source": [
        "from gensim.models import Word2Vec\n",
        "embedding_model = Word2Vec(sentence, size=20, window=5, min_count=1, workers = 4, iter=200, sg=1)"
      ],
      "execution_count": null,
      "outputs": []
    },
    {
      "cell_type": "code",
      "metadata": {
        "colab": {
          "base_uri": "https://localhost:8080/"
        },
        "id": "hUVHpziyG0nu",
        "outputId": "4284cadd-f700-415c-e1bc-734563182dab"
      },
      "source": [
        "embedding_model.wv.most_similar(positive=['Roman Holiday'], topn=10)"
      ],
      "execution_count": null,
      "outputs": [
        {
          "output_type": "execute_result",
          "data": {
            "text/plain": [
              "[('The Shawshank Redemption', 0.8313828110694885),\n",
              " ('Pieces of April', 0.800894558429718),\n",
              " ('El Crimen del Padre Amaro', 0.7898154258728027),\n",
              " ('Je ne suis pas là pour être aimé', 0.7889549732208252),\n",
              " ('Munich', 0.7806538343429565),\n",
              " ('Wattstax', 0.7563534379005432),\n",
              " ('La course du lièvre à travers les champs', 0.7541743516921997),\n",
              " ('Saw IV', 0.7525335550308228),\n",
              " ('Anna and the King', 0.7474038600921631),\n",
              " ('Chicken Run', 0.743503987789154)]"
            ]
          },
          "metadata": {
            "tags": []
          },
          "execution_count": 95
        }
      ]
    },
    {
      "cell_type": "code",
      "metadata": {
        "id": "u8X_3jK3H4h9"
      },
      "source": [
        "from gensim.models import doc2vec"
      ],
      "execution_count": null,
      "outputs": []
    },
    {
      "cell_type": "code",
      "metadata": {
        "colab": {
          "base_uri": "https://localhost:8080/"
        },
        "id": "KrbVtQCZJOJ4",
        "outputId": "0f9f0246-e653-4700-dd09-75d8e74ac7e2"
      },
      "source": [
        "meta = pd.read_csv(os.path.join(path, 'movies_metadata.csv'), low_memory=False)\n",
        "meta = meta.rename(columns={'id':'movieId'})\n",
        "meta = meta[meta['original_title'].notnull()].reset_index(drop=True)\n",
        "meta = meta[meta['overview'].notnull()].reset_index(drop=True)\n",
        "meta['overview']"
      ],
      "execution_count": null,
      "outputs": [
        {
          "output_type": "execute_result",
          "data": {
            "text/plain": [
              "0        Led by Woody, Andy's toys live happily in his ...\n",
              "1        When siblings Judy and Peter discover an encha...\n",
              "2        A family wedding reignites the ancient feud be...\n",
              "3        Cheated on, mistreated and stepped on, the wom...\n",
              "4        Just when George Banks has recovered from his ...\n",
              "                               ...                        \n",
              "44507          Rising and falling between a man and woman.\n",
              "44508    An artist struggles to finish his work while a...\n",
              "44509    When one of her hits goes wrong, a professiona...\n",
              "44510    In a small town live two brothers, one a minis...\n",
              "44511    50 years after decriminalisation of homosexual...\n",
              "Name: overview, Length: 44512, dtype: object"
            ]
          },
          "metadata": {
            "tags": []
          },
          "execution_count": 101
        }
      ]
    },
    {
      "cell_type": "code",
      "metadata": {
        "colab": {
          "base_uri": "https://localhost:8080/"
        },
        "id": "OWsQo9XBLiRU",
        "outputId": "28f8f3e5-61dd-4749-9edf-c877996073de"
      },
      "source": [
        "import nltk\n",
        "# nltk.download('stopwords')\n",
        "nltk.download('punkt')"
      ],
      "execution_count": null,
      "outputs": [
        {
          "output_type": "stream",
          "text": [
            "[nltk_data] Downloading package punkt to /root/nltk_data...\n",
            "[nltk_data]   Unzipping tokenizers/punkt.zip.\n"
          ],
          "name": "stdout"
        },
        {
          "output_type": "execute_result",
          "data": {
            "text/plain": [
              "True"
            ]
          },
          "metadata": {
            "tags": []
          },
          "execution_count": 105
        }
      ]
    },
    {
      "cell_type": "code",
      "metadata": {
        "colab": {
          "base_uri": "https://localhost:8080/"
        },
        "id": "9fzrS_A5JbEa",
        "outputId": "131b6e86-d46b-4706-e4d3-4e314575f6d6"
      },
      "source": [
        "import re\n",
        "from tqdm import tqdm\n",
        "from nltk.tokenize import word_tokenize, sent_tokenize\n",
        "from nltk.corpus import stopwords\n",
        "\n",
        "stop_words = set(stopwords.words('english'))\n",
        "overview = []\n",
        "\n",
        "for words in tqdm(meta['overview']):\n",
        "    word_tokens = word_tokenize(words)\n",
        "    sentence = re.sub('[A-Za-z0-9]+', ' ', str(words))\n",
        "    sentence.strip()\n",
        "    \n",
        "    sent_tokens = sent_tokenize(sentence)\n",
        "    result = ''\n",
        "    for token in sent_tokens:\n",
        "        if token not in stop_words:\n",
        "            result += ''+token\n",
        "    result = result.strip().lower()\n",
        "    overview.append(result)\n",
        "print(result)"
      ],
      "execution_count": null,
      "outputs": [
        {
          "output_type": "stream",
          "text": [
            "100%|██████████| 44512/44512 [00:19<00:00, 2262.64it/s]"
          ],
          "name": "stderr"
        },
        {
          "output_type": "stream",
          "text": [
            ",                                ,  ,                        .\n"
          ],
          "name": "stdout"
        },
        {
          "output_type": "stream",
          "text": [
            "\n"
          ],
          "name": "stderr"
        }
      ]
    },
    {
      "cell_type": "code",
      "metadata": {
        "colab": {
          "base_uri": "https://localhost:8080/"
        },
        "id": "-YK8_mhHLgvp",
        "outputId": "360f6ebd-44e0-4af1-b3b9-08ef71fc74ea"
      },
      "source": [
        "meta['pre_overview']=overview\n",
        "meta['pre_overview']"
      ],
      "execution_count": null,
      "outputs": [
        {
          "output_type": "execute_result",
          "data": {
            "text/plain": [
              "0        ,  '                 '               .        ...\n",
              "1        ,         --      '                  --       ...\n",
              "2        -               .,        é                 , ...\n",
              "3        ,        ,            ,         \"   \"         ...\n",
              "4        '   ,            '    ...      '   ,  ,      ....\n",
              "                               ...                        \n",
              "44507                                                    .\n",
              "44508                                                    .\n",
              "44509            ,                                     ...\n",
              "44510    ,                                    .,       ...\n",
              "44511    ,                                ,  ,         ...\n",
              "Name: pre_overview, Length: 44512, dtype: object"
            ]
          },
          "metadata": {
            "tags": []
          },
          "execution_count": 110
        }
      ]
    },
    {
      "cell_type": "code",
      "metadata": {
        "id": "-hM_29XVhLiS"
      },
      "source": [
        "doc_vector = doc2vec.Doc2Vec(\n",
        "    dm = 0,\n",
        "    dbow_words=1,\n",
        "    window = 1,\n",
        "    size = 1,\n",
        "    alpha=0.025,\n",
        "    seed=1234,\n",
        "    min_count = 5,\n",
        "    min_alpha = 0.025,\n",
        "    workers = 4,\n",
        "    hs = 1,\n",
        "    negative = 10\n",
        ")"
      ],
      "execution_count": null,
      "outputs": []
    },
    {
      "cell_type": "code",
      "metadata": {
        "id": "Jkr-50FLh-2S"
      },
      "source": [
        "from collections import namedtuple\n",
        "agg = meta[['movieId', 'original_title', 'pre_overview']]\n",
        "ToggedDocument = namedtuple('ToggedDocument', 'words tags')\n",
        "tagged_train_docs = [ToggedDocument((c), [d]) for c, d in agg[['original_title', 'pre_overview']].values]"
      ],
      "execution_count": null,
      "outputs": []
    },
    {
      "cell_type": "code",
      "metadata": {
        "colab": {
          "base_uri": "https://localhost:8080/"
        },
        "id": "Db9Nu6Shi1fl",
        "outputId": "695c9180-5f8e-4c58-93cd-32be22d90554"
      },
      "source": [
        "doc_vector.build_vocab(tagged_train_docs)\n",
        "print(str(doc_vector))"
      ],
      "execution_count": null,
      "outputs": [
        {
          "output_type": "stream",
          "text": [
            "Doc2Vec(dbow+w,d1,n10,hs,w1,mc5,s0.001,t4)\n"
          ],
          "name": "stdout"
        }
      ]
    },
    {
      "cell_type": "code",
      "metadata": {
        "colab": {
          "base_uri": "https://localhost:8080/"
        },
        "id": "L_zaMu4FjKYy",
        "outputId": "2f57942c-12d0-4894-aa3b-e078f4889aa2"
      },
      "source": [
        "# 벡터 문서 학습\n",
        "from time import time\n",
        "\n",
        "start = time()\n",
        "\n",
        "for epoch in tqdm(range(5)):\n",
        "    doc_vector.train(tagged_train_docs, total_examples=doc_vector.corpus_count, epochs=doc_vector.iter)\n",
        "    doc_vector.alpha -= 0.002\n",
        "    doc_vector.min_alpha = doc_vector.alpha\n",
        "\n",
        "end = time()\n",
        "print(f'During Time: {end-start}')"
      ],
      "execution_count": null,
      "outputs": [
        {
          "output_type": "stream",
          "text": [
            "100%|██████████| 5/5 [01:43<00:00, 20.76s/it]"
          ],
          "name": "stderr"
        },
        {
          "output_type": "stream",
          "text": [
            "During Time: 103.79265713691711\n"
          ],
          "name": "stdout"
        },
        {
          "output_type": "stream",
          "text": [
            "\n"
          ],
          "name": "stderr"
        }
      ]
    },
    {
      "cell_type": "code",
      "metadata": {
        "colab": {
          "base_uri": "https://localhost:8080/",
          "height": 312
        },
        "id": "adrbEZzxkCnJ",
        "outputId": "aa6b57d8-e76c-4ecd-c972-2d7f146cde7d"
      },
      "source": [
        "doc_vector.docvecs.most_similar(['Toy Story'], topn=10)"
      ],
      "execution_count": null,
      "outputs": [
        {
          "output_type": "error",
          "ename": "TypeError",
          "evalue": "ignored",
          "traceback": [
            "\u001b[0;31m---------------------------------------------------------------------------\u001b[0m",
            "\u001b[0;31mTypeError\u001b[0m                                 Traceback (most recent call last)",
            "\u001b[0;32m<ipython-input-122-031095f0fccb>\u001b[0m in \u001b[0;36m<module>\u001b[0;34m()\u001b[0m\n\u001b[0;32m----> 1\u001b[0;31m \u001b[0mdoc_vector\u001b[0m\u001b[0;34m.\u001b[0m\u001b[0mdocvecs\u001b[0m\u001b[0;34m.\u001b[0m\u001b[0mmost_similar\u001b[0m\u001b[0;34m(\u001b[0m\u001b[0;34m[\u001b[0m\u001b[0;34m'Toy Story'\u001b[0m\u001b[0;34m]\u001b[0m\u001b[0;34m,\u001b[0m \u001b[0mtopn\u001b[0m\u001b[0;34m=\u001b[0m\u001b[0;36m10\u001b[0m\u001b[0;34m)\u001b[0m\u001b[0;34m\u001b[0m\u001b[0;34m\u001b[0m\u001b[0m\n\u001b[0m",
            "\u001b[0;32m/usr/local/lib/python3.7/dist-packages/gensim/models/keyedvectors.py\u001b[0m in \u001b[0;36mmost_similar\u001b[0;34m(self, positive, negative, topn, clip_start, clip_end, indexer)\u001b[0m\n\u001b[1;32m   1647\u001b[0m             \u001b[0;32mif\u001b[0m \u001b[0misinstance\u001b[0m\u001b[0;34m(\u001b[0m\u001b[0mdoc\u001b[0m\u001b[0;34m,\u001b[0m \u001b[0mndarray\u001b[0m\u001b[0;34m)\u001b[0m\u001b[0;34m:\u001b[0m\u001b[0;34m\u001b[0m\u001b[0;34m\u001b[0m\u001b[0m\n\u001b[1;32m   1648\u001b[0m                 \u001b[0mmean\u001b[0m\u001b[0;34m.\u001b[0m\u001b[0mappend\u001b[0m\u001b[0;34m(\u001b[0m\u001b[0mweight\u001b[0m \u001b[0;34m*\u001b[0m \u001b[0mdoc\u001b[0m\u001b[0;34m)\u001b[0m\u001b[0;34m\u001b[0m\u001b[0;34m\u001b[0m\u001b[0m\n\u001b[0;32m-> 1649\u001b[0;31m             \u001b[0;32melif\u001b[0m \u001b[0mdoc\u001b[0m \u001b[0;32min\u001b[0m \u001b[0mself\u001b[0m\u001b[0;34m.\u001b[0m\u001b[0mdoctags\u001b[0m \u001b[0;32mor\u001b[0m \u001b[0mdoc\u001b[0m \u001b[0;34m<\u001b[0m \u001b[0mself\u001b[0m\u001b[0;34m.\u001b[0m\u001b[0mcount\u001b[0m\u001b[0;34m:\u001b[0m\u001b[0;34m\u001b[0m\u001b[0;34m\u001b[0m\u001b[0m\n\u001b[0m\u001b[1;32m   1650\u001b[0m                 \u001b[0mmean\u001b[0m\u001b[0;34m.\u001b[0m\u001b[0mappend\u001b[0m\u001b[0;34m(\u001b[0m\u001b[0mweight\u001b[0m \u001b[0;34m*\u001b[0m \u001b[0mself\u001b[0m\u001b[0;34m.\u001b[0m\u001b[0mvectors_docs_norm\u001b[0m\u001b[0;34m[\u001b[0m\u001b[0mself\u001b[0m\u001b[0;34m.\u001b[0m\u001b[0m_int_index\u001b[0m\u001b[0;34m(\u001b[0m\u001b[0mdoc\u001b[0m\u001b[0;34m,\u001b[0m \u001b[0mself\u001b[0m\u001b[0;34m.\u001b[0m\u001b[0mdoctags\u001b[0m\u001b[0;34m,\u001b[0m \u001b[0mself\u001b[0m\u001b[0;34m.\u001b[0m\u001b[0mmax_rawint\u001b[0m\u001b[0;34m)\u001b[0m\u001b[0;34m]\u001b[0m\u001b[0;34m)\u001b[0m\u001b[0;34m\u001b[0m\u001b[0;34m\u001b[0m\u001b[0m\n\u001b[1;32m   1651\u001b[0m                 \u001b[0mall_docs\u001b[0m\u001b[0;34m.\u001b[0m\u001b[0madd\u001b[0m\u001b[0;34m(\u001b[0m\u001b[0mself\u001b[0m\u001b[0;34m.\u001b[0m\u001b[0m_int_index\u001b[0m\u001b[0;34m(\u001b[0m\u001b[0mdoc\u001b[0m\u001b[0;34m,\u001b[0m \u001b[0mself\u001b[0m\u001b[0;34m.\u001b[0m\u001b[0mdoctags\u001b[0m\u001b[0;34m,\u001b[0m \u001b[0mself\u001b[0m\u001b[0;34m.\u001b[0m\u001b[0mmax_rawint\u001b[0m\u001b[0;34m)\u001b[0m\u001b[0;34m)\u001b[0m\u001b[0;34m\u001b[0m\u001b[0;34m\u001b[0m\u001b[0m\n",
            "\u001b[0;31mTypeError\u001b[0m: '<' not supported between instances of 'str' and 'int'"
          ]
        }
      ]
    },
    {
      "cell_type": "code",
      "metadata": {
        "id": "pCyZHwIWlcmu"
      },
      "source": [
        ""
      ],
      "execution_count": null,
      "outputs": []
    }
  ]
}